{
 "cells": [
  {
   "cell_type": "code",
   "execution_count": 9,
   "metadata": {
    "pycharm": {
     "is_executing": false
    }
   },
   "outputs": [],
   "source": [
    "import pandas as pd\n",
    "import csv "
   ]
  },
  {
   "cell_type": "code",
   "execution_count": 10,
   "outputs": [
    {
     "name": "stdout",
     "text": [
      "(40479, 2)\n",
      "40479\n"
     ],
     "output_type": "stream"
    }
   ],
   "source": [
    "image_df = pd.read_csv('./data/train_v2.csv')\n",
    "\n",
    "print (image_df.shape)\n",
    "image_df.head()\n",
    "\n",
    "x_range_image_df, y_range_image_df = image_df.shape\n",
    "print (x_range_image_df)"
   ],
   "metadata": {
    "collapsed": false,
    "pycharm": {
     "name": "#%%\n",
     "is_executing": false
    }
   }
  },
  {
   "cell_type": "code",
   "execution_count": 11,
   "outputs": [],
   "source": [
    "def string_unique_identifier (df_string_column):\n",
    "    #creating an empty list to hold the unique tags \n",
    "    unique_tags = []\n",
    "    \n",
    "    for entry in df_string_column:\n",
    "        # splitting on the delimiter \n",
    "        entry_list = list(entry.split(\" \"))\n",
    "        \n",
    "        for item in entry_list:\n",
    "            unique_tags.append(item)\n",
    "    #removing the duplicates from the list \n",
    "    unique_tags = set(unique_tags)\n",
    "    \n",
    "    #return the unique identifiers \n",
    "    return unique_tags"
   ],
   "metadata": {
    "collapsed": false,
    "pycharm": {
     "name": "#%%\n",
     "is_executing": false
    }
   }
  },
  {
   "cell_type": "code",
   "execution_count": 12,
   "outputs": [],
   "source": [
    "def unique_tags_dictionary (tag_list, x_shape_df):\n",
    "    tag_dictionary = {}\n",
    "    \n",
    "    for entry in tag_list:\n",
    "        tag_dictionary[entry] = [0] * x_shape_df\n",
    "    \n",
    "    return tag_dictionary"
   ],
   "metadata": {
    "collapsed": false,
    "pycharm": {
     "name": "#%%\n",
     "is_executing": false
    }
   }
  },
  {
   "cell_type": "code",
   "execution_count": 13,
   "outputs": [],
   "source": [
    "#Get the unique tags \n",
    "unique_tags = string_unique_identifier(image_df['tags'])\n",
    "\n",
    "tag_dictionary = unique_tags_dictionary(unique_tags, x_range_image_df)"
   ],
   "metadata": {
    "collapsed": false,
    "pycharm": {
     "name": "#%%\n",
     "is_executing": false
    }
   }
  },
  {
   "cell_type": "code",
   "execution_count": 14,
   "outputs": [
    {
     "data": {
      "text/plain": "0"
     },
     "metadata": {},
     "output_type": "execute_result",
     "execution_count": 14
    }
   ],
   "source": [
    "tag_dictionary['clear'][10]"
   ],
   "metadata": {
    "collapsed": false,
    "pycharm": {
     "name": "#%%\n",
     "is_executing": false
    }
   }
  },
  {
   "cell_type": "code",
   "execution_count": 15,
   "outputs": [],
   "source": [
    "def create_split_df(tag_dictionary, df_column):\n",
    "    for i in range(len(df_column)):\n",
    "        each_entry = df_column[i].split(\" \")\n",
    "        \n",
    "        for var in each_entry:\n",
    "            tag_dictionary[var][i] = 1\n",
    "\n",
    "    split_df = pd.DataFrame(data=tag_dictionary)\n",
    "    \n",
    "    return split_df\n",
    "\n",
    "split_df = create_split_df(tag_dictionary, image_df['tags'])\n",
    "\n",
    "split_df.head()\n",
    "\n",
    "combined_df = pd.concat([image_df,split_df], axis=1, sort=False)\n",
    "\n",
    "combined_df.to_csv('./data/split_image_data.csv')"
   ],
   "metadata": {
    "collapsed": false,
    "pycharm": {
     "name": "#%%\n",
     "is_executing": false
    }
   }
  }
 ],
 "metadata": {
  "kernelspec": {
   "display_name": "Python 3",
   "language": "python",
   "name": "python3"
  },
  "language_info": {
   "codemirror_mode": {
    "name": "ipython",
    "version": 3
   },
   "file_extension": ".py",
   "mimetype": "text/x-python",
   "name": "python",
   "nbconvert_exporter": "python",
   "pygments_lexer": "ipython3",
   "version": "3.7.4"
  },
  "pycharm": {
   "stem_cell": {
    "cell_type": "raw",
    "source": [],
    "metadata": {
     "collapsed": false
    }
   }
  }
 },
 "nbformat": 4,
 "nbformat_minor": 2
}